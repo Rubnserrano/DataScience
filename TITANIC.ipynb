{
 "cells": [
  {
   "cell_type": "code",
   "execution_count": 2,
   "id": "6d63d3ae",
   "metadata": {},
   "outputs": [],
   "source": [
    "import os\n",
    "from pathlib import Path\n",
    "import pandas as pd\n",
    "from sklearn.model_selection import train_test_split\n",
    "from sklearn.tree import DecisionTreeRegressor\n",
    "from sklearn.ensemble import RandomForestClassifier\n",
    "from sklearn import svm\n",
    "import numpy as np\n",
    "import matplotlib.pyplot as plt\n",
    "from sklearn.linear_model import LogisticRegression\n",
    "from sklearn.preprocessing import StandardScaler\n",
    "from sklearn import linear_model\n",
    "from sklearn.metrics import confusion_matrix\n",
    "from sklearn.model_selection import GridSearchCV\n",
    "from sklearn.linear_model import LogisticRegressionCV\n",
    "import seaborn as sns\n"
   ]
  },
  {
   "cell_type": "markdown",
   "id": "b7d03ee4",
   "metadata": {},
   "source": [
    "# READING DATA"
   ]
  },
  {
   "cell_type": "code",
   "execution_count": 7,
   "id": "b4a0ebd9",
   "metadata": {},
   "outputs": [
    {
     "data": {
      "text/html": [
       "<div>\n",
       "<style scoped>\n",
       "    .dataframe tbody tr th:only-of-type {\n",
       "        vertical-align: middle;\n",
       "    }\n",
       "\n",
       "    .dataframe tbody tr th {\n",
       "        vertical-align: top;\n",
       "    }\n",
       "\n",
       "    .dataframe thead th {\n",
       "        text-align: right;\n",
       "    }\n",
       "</style>\n",
       "<table border=\"1\" class=\"dataframe\">\n",
       "  <thead>\n",
       "    <tr style=\"text-align: right;\">\n",
       "      <th></th>\n",
       "      <th>PassengerId</th>\n",
       "      <th>Survived</th>\n",
       "      <th>Pclass</th>\n",
       "      <th>Name</th>\n",
       "      <th>Sex</th>\n",
       "      <th>Age</th>\n",
       "      <th>SibSp</th>\n",
       "      <th>Parch</th>\n",
       "      <th>Ticket</th>\n",
       "      <th>Fare</th>\n",
       "      <th>Cabin</th>\n",
       "      <th>Embarked</th>\n",
       "    </tr>\n",
       "  </thead>\n",
       "  <tbody>\n",
       "    <tr>\n",
       "      <th>0</th>\n",
       "      <td>1</td>\n",
       "      <td>0</td>\n",
       "      <td>3</td>\n",
       "      <td>Braund, Mr. Owen Harris</td>\n",
       "      <td>male</td>\n",
       "      <td>22.0</td>\n",
       "      <td>1</td>\n",
       "      <td>0</td>\n",
       "      <td>A/5 21171</td>\n",
       "      <td>7.2500</td>\n",
       "      <td>NaN</td>\n",
       "      <td>S</td>\n",
       "    </tr>\n",
       "    <tr>\n",
       "      <th>1</th>\n",
       "      <td>2</td>\n",
       "      <td>1</td>\n",
       "      <td>1</td>\n",
       "      <td>Cumings, Mrs. John Bradley (Florence Briggs Th...</td>\n",
       "      <td>female</td>\n",
       "      <td>38.0</td>\n",
       "      <td>1</td>\n",
       "      <td>0</td>\n",
       "      <td>PC 17599</td>\n",
       "      <td>71.2833</td>\n",
       "      <td>C85</td>\n",
       "      <td>C</td>\n",
       "    </tr>\n",
       "    <tr>\n",
       "      <th>2</th>\n",
       "      <td>3</td>\n",
       "      <td>1</td>\n",
       "      <td>3</td>\n",
       "      <td>Heikkinen, Miss. Laina</td>\n",
       "      <td>female</td>\n",
       "      <td>26.0</td>\n",
       "      <td>0</td>\n",
       "      <td>0</td>\n",
       "      <td>STON/O2. 3101282</td>\n",
       "      <td>7.9250</td>\n",
       "      <td>NaN</td>\n",
       "      <td>S</td>\n",
       "    </tr>\n",
       "    <tr>\n",
       "      <th>3</th>\n",
       "      <td>4</td>\n",
       "      <td>1</td>\n",
       "      <td>1</td>\n",
       "      <td>Futrelle, Mrs. Jacques Heath (Lily May Peel)</td>\n",
       "      <td>female</td>\n",
       "      <td>35.0</td>\n",
       "      <td>1</td>\n",
       "      <td>0</td>\n",
       "      <td>113803</td>\n",
       "      <td>53.1000</td>\n",
       "      <td>C123</td>\n",
       "      <td>S</td>\n",
       "    </tr>\n",
       "    <tr>\n",
       "      <th>4</th>\n",
       "      <td>5</td>\n",
       "      <td>0</td>\n",
       "      <td>3</td>\n",
       "      <td>Allen, Mr. William Henry</td>\n",
       "      <td>male</td>\n",
       "      <td>35.0</td>\n",
       "      <td>0</td>\n",
       "      <td>0</td>\n",
       "      <td>373450</td>\n",
       "      <td>8.0500</td>\n",
       "      <td>NaN</td>\n",
       "      <td>S</td>\n",
       "    </tr>\n",
       "  </tbody>\n",
       "</table>\n",
       "</div>"
      ],
      "text/plain": [
       "   PassengerId  Survived  Pclass  \\\n",
       "0            1         0       3   \n",
       "1            2         1       1   \n",
       "2            3         1       3   \n",
       "3            4         1       1   \n",
       "4            5         0       3   \n",
       "\n",
       "                                                Name     Sex   Age  SibSp  \\\n",
       "0                            Braund, Mr. Owen Harris    male  22.0      1   \n",
       "1  Cumings, Mrs. John Bradley (Florence Briggs Th...  female  38.0      1   \n",
       "2                             Heikkinen, Miss. Laina  female  26.0      0   \n",
       "3       Futrelle, Mrs. Jacques Heath (Lily May Peel)  female  35.0      1   \n",
       "4                           Allen, Mr. William Henry    male  35.0      0   \n",
       "\n",
       "   Parch            Ticket     Fare Cabin Embarked  \n",
       "0      0         A/5 21171   7.2500   NaN        S  \n",
       "1      0          PC 17599  71.2833   C85        C  \n",
       "2      0  STON/O2. 3101282   7.9250   NaN        S  \n",
       "3      0            113803  53.1000  C123        S  \n",
       "4      0            373450   8.0500   NaN        S  "
      ]
     },
     "execution_count": 7,
     "metadata": {},
     "output_type": "execute_result"
    }
   ],
   "source": [
    "train.head()"
   ]
  },
  {
   "cell_type": "code",
   "execution_count": 4,
   "id": "0723f59f",
   "metadata": {},
   "outputs": [
    {
     "name": "stdout",
     "output_type": "stream",
     "text": [
      "['gender_submission.csv', 'resumen.csv', 'submission', 'submission.csv', 'submissionRFC.csv', 'submissionSVM.csv', 'submission_LogReg.csv', 'submission_LR.csv', 'submission_LRCV.csv', 'submission_LRN.csv', 'submission_MLP_probarr.csv', 'submission_RFC_hyperCV.csv', 'submission_RFC_hyperCV_.csv', 'submission_RFC_hyperCV_best.csv', 'submission_SVM_CV.csv', 'submission_SVM_CV_scale.csv', 'submission_SVM_sigmoid.csv', 'submission___RFC_CV.csv', 'submission_____RFC.csv', 'svm_c.csv', 'test.csv', 'train.csv']\n"
     ]
    }
   ],
   "source": [
    "PATH = \"C:\\\\Users\\Cosas\\OneDrive\\Escritorio\\Data_Science\\proyectos\\competiciones\"\n",
    "path = PATH + \"\\gender_submission.csv\"\n",
    "\n",
    "file_list = os.listdir(PATH) \n",
    "print(file_list)\n",
    "valores_reales = pd.read_csv(path)\n",
    "train = pd.read_csv(PATH + '\\\\train.csv')\n",
    "test= pd.read_csv(PATH + '\\\\test.csv')\n",
    "def irrelevantes():\n",
    "    del(train[\"Cabin\"])\n",
    "    del(train['Name'])\n",
    "    del(train['Ticket'])\n",
    "    train = train.drop([61,829])\n",
    "    del(test[\"Cabin\"])\n",
    "    del(test['Ticket'])\n",
    "    del(test['Name'])\n",
    "    test = test.drop([61,829])\n",
    "\n",
    "#test.info()"
   ]
  },
  {
   "cell_type": "markdown",
   "id": "f588c4fc",
   "metadata": {},
   "source": [
    "# DATA CLEANING"
   ]
  },
  {
   "cell_type": "code",
   "execution_count": 306,
   "id": "e6daf520",
   "metadata": {},
   "outputs": [
    {
     "name": "stdout",
     "output_type": "stream",
     "text": [
      "<class 'pandas.core.frame.DataFrame'>\n",
      "Int64Index: 889 entries, 0 to 890\n",
      "Data columns (total 9 columns):\n",
      " #   Column       Non-Null Count  Dtype  \n",
      "---  ------       --------------  -----  \n",
      " 0   PassengerId  889 non-null    int64  \n",
      " 1   Survived     889 non-null    int64  \n",
      " 2   Pclass       889 non-null    int64  \n",
      " 3   Sex          889 non-null    int64  \n",
      " 4   Age          889 non-null    float64\n",
      " 5   SibSp        889 non-null    int64  \n",
      " 6   Parch        889 non-null    int64  \n",
      " 7   Fare         889 non-null    float64\n",
      " 8   Embarked     889 non-null    float64\n",
      "dtypes: float64(3), int64(6)\n",
      "memory usage: 69.5 KB\n"
     ]
    }
   ],
   "source": [
    "train['Sex'].replace(['female', 'male'], [0,1], inplace=True)\n",
    "test['Sex'].replace(['female', 'male'], [0,1], inplace=True)\n",
    "\n",
    "train['Embarked'].replace(['Q','S', 'C'], [0,1,2], inplace=True)\n",
    "test['Embarked'].replace(['Q','S', 'C'], [0,1,2], inplace=True)\n",
    "\n",
    "\n",
    "nan_rows = train[train.isnull().any(1)]\n",
    "\n",
    "\n",
    "#and fill the NA with the median age\n",
    "median_age = train[\"Age\"].median()\n",
    "train.Age = train.Age.fillna(median_age)\n",
    "\n",
    "#del(train[\"Cabin\"])\n",
    "del(train['Name'])\n",
    "del(train['Ticket'])\n",
    "train = train.drop([61,829])\n",
    "\n",
    "train.info()"
   ]
  },
  {
   "cell_type": "code",
   "execution_count": 309,
   "id": "62d1d94f",
   "metadata": {},
   "outputs": [
    {
     "name": "stdout",
     "output_type": "stream",
     "text": [
      "<class 'pandas.core.frame.DataFrame'>\n",
      "RangeIndex: 418 entries, 0 to 417\n",
      "Data columns (total 8 columns):\n",
      " #   Column       Non-Null Count  Dtype  \n",
      "---  ------       --------------  -----  \n",
      " 0   PassengerId  418 non-null    int64  \n",
      " 1   Pclass       418 non-null    int64  \n",
      " 2   Sex          418 non-null    int64  \n",
      " 3   Age          418 non-null    float64\n",
      " 4   SibSp        418 non-null    int64  \n",
      " 5   Parch        418 non-null    int64  \n",
      " 6   Fare         418 non-null    float64\n",
      " 7   Embarked     418 non-null    int64  \n",
      "dtypes: float64(2), int64(6)\n",
      "memory usage: 26.2 KB\n"
     ]
    }
   ],
   "source": [
    "median_age = test[\"Age\"].median()\n",
    "test.Age = test.Age.fillna(median_age)\n",
    "\n",
    "#Erasing the rows with NA values on Embarked\n",
    "nan_rows = test[test.isnull().any(1)]\n",
    "\n",
    "median_fare = test[\"Fare\"].median()\n",
    "test.Fare = test.Fare.fillna(median_fare)\n",
    "\n",
    "#del(test[\"Cabin\"])\n",
    "#del(test['Ticket'])\n",
    "#del(test['Name'])\n",
    "#test = test.drop([61,829])\n",
    "\n",
    "test.info()"
   ]
  },
  {
   "cell_type": "markdown",
   "id": "33b95b28",
   "metadata": {},
   "source": [
    "# USEFUL FUNCTIONS"
   ]
  },
  {
   "cell_type": "code",
   "execution_count": 310,
   "id": "25fa5100",
   "metadata": {},
   "outputs": [],
   "source": [
    "def exito(x,y):\n",
    "    total=0\n",
    "    for i in range(len(x)):\n",
    "        if x[i]==y[i]:\n",
    "            total=total+1\n",
    "    return(total/len(y_pred), total)"
   ]
  },
  {
   "cell_type": "code",
   "execution_count": 311,
   "id": "18460e22",
   "metadata": {},
   "outputs": [],
   "source": [
    "def submission_generator(prediccion, modelo):\n",
    "    ids = X_test[\"PassengerId\"]\n",
    "    vivomuerto = pd.DataFrame(prediccion, columns=[\"SURVIVED\"])\n",
    "    submission = pd.concat([ids, vivomuerto], axis=1)\n",
    "    submission.to_csv(PATH + '\\\\submission' + modelo + '.csv', index=False)"
   ]
  },
  {
   "cell_type": "markdown",
   "id": "73d35084",
   "metadata": {},
   "source": [
    "# DATA PARTITION"
   ]
  },
  {
   "cell_type": "code",
   "execution_count": 312,
   "id": "5d8586b8",
   "metadata": {
    "scrolled": true
   },
   "outputs": [
    {
     "name": "stdout",
     "output_type": "stream",
     "text": [
      "X_train : (889, 8)\n",
      "y_train : (889,)\n",
      "X_test : (418, 8)\n",
      "y_test : (418,)\n"
     ]
    }
   ],
   "source": [
    "features = [\"PassengerId\", \"Pclass\", \"Sex\", \"Age\", \"SibSp\", \"Parch\", \"Fare\", \"Embarked\"]\n",
    "X_train = train[features]\n",
    "y_train = train['Survived']\n",
    "X_test = test\n",
    "y_test = valores_reales[\"Survived\"]\n",
    "print(f'X_train : {X_train.shape}')\n",
    "print(f'y_train : {y_train.shape}')\n",
    "print(f'X_test : {X_test.shape}')\n",
    "print(f'y_test : {y_test.shape}')"
   ]
  },
  {
   "cell_type": "markdown",
   "id": "62a34c39",
   "metadata": {},
   "source": [
    "# Random Forest Classifier MODEL"
   ]
  },
  {
   "cell_type": "code",
   "execution_count": 423,
   "id": "ef5c7a96",
   "metadata": {},
   "outputs": [],
   "source": [
    "clf = RandomForestClassifier(n_estimators = 150, random_state=230) \n",
    "clf.fit(X_train, y_train)\n",
    "y_pred = clf.predict(X_test)\n",
    "y_pred = np.array(y_pred)"
   ]
  },
  {
   "cell_type": "code",
   "execution_count": 424,
   "id": "c8cf41d2",
   "metadata": {},
   "outputs": [
    {
     "name": "stdout",
     "output_type": "stream",
     "text": [
      "[[235  31]\n",
      " [ 52 100]]\n",
      "0.8014354066985646\n"
     ]
    }
   ],
   "source": [
    "RFC_points=exito(y_pred, y_test)[0]\n",
    "K_RFC_points = 0.78708\n",
    "matriz = confusion_matrix(y_test, y_pred)\n",
    "print(matriz)\n",
    "print(RFC_points)"
   ]
  },
  {
   "cell_type": "code",
   "execution_count": 344,
   "id": "5aab39bb",
   "metadata": {},
   "outputs": [],
   "source": [
    "submission_generator(y_pred, \"_____RFC\")"
   ]
  },
  {
   "cell_type": "markdown",
   "id": "3b3e5aae",
   "metadata": {},
   "source": [
    "# Cross Validation"
   ]
  },
  {
   "cell_type": "code",
   "execution_count": 440,
   "id": "6fe43c37",
   "metadata": {},
   "outputs": [
    {
     "data": {
      "text/plain": [
       "(0.7583732057416268, 317)"
      ]
     },
     "execution_count": 440,
     "metadata": {},
     "output_type": "execute_result"
    }
   ],
   "source": [
    "param_grid = {\n",
    "                 'n_estimators': [100],\n",
    "                 \n",
    "             }\n",
    "clf = RandomForestClassifier(random_state=15)\n",
    "grid_clf = GridSearchCV(clf, param_grid, cv=10)\n",
    "grid_clf.fit(X_train, y_train)\n",
    "y_pred = grid_clf.predict(X_test)\n",
    "RFC_CV_points = exito(y_pred, y_test)[0]\n",
    "submission_generator(y_pred, '___RFC_CV')\n",
    "K_RFC_CV_points = 0.77751\n",
    "exito(y_pred, y_test)"
   ]
  },
  {
   "cell_type": "markdown",
   "id": "5f60d1ec",
   "metadata": {},
   "source": [
    "## Hyperparameter tuning"
   ]
  },
  {
   "cell_type": "code",
   "execution_count": 433,
   "id": "e758e261",
   "metadata": {},
   "outputs": [
    {
     "data": {
      "text/plain": [
       "{'bootstrap': [True, False],\n",
       " 'max_depth': [10, 40, 70, 100, None],\n",
       " 'max_features': ['auto', 'sqrt'],\n",
       " 'min_samples_leaf': [1, 2, 4],\n",
       " 'min_samples_split': [2, 5, 10],\n",
       " 'n_estimators': [200, 400, 500, 800, 1400]}"
      ]
     },
     "execution_count": 433,
     "metadata": {},
     "output_type": "execute_result"
    }
   ],
   "source": [
    "random_grid2 = {'bootstrap': [True, False],\n",
    " 'max_depth': [10, 40, 70,  100, None],\n",
    " 'max_features': ['auto', 'sqrt'],\n",
    " 'min_samples_leaf': [1, 2, 4],\n",
    " 'min_samples_split': [2, 5, 10],\n",
    " 'n_estimators': [200,400, 500, 800,1400]}\n",
    "random_grid2"
   ]
  },
  {
   "cell_type": "code",
   "execution_count": 291,
   "id": "c83ccb0a",
   "metadata": {},
   "outputs": [
    {
     "name": "stdout",
     "output_type": "stream",
     "text": [
      "Fitting 10 folds for each of 20 candidates, totalling 200 fits\n",
      "RandomForestClassifier(max_features='sqrt', min_samples_leaf=4,\n",
      "                       min_samples_split=10, n_estimators=500)\n",
      "CPU times: total: 2.92 s\n",
      "Wall time: 3min 37s\n"
     ]
    }
   ],
   "source": [
    "%%time\n",
    "from sklearn.model_selection import RandomizedSearchCV\n",
    "rf_random = RandomizedSearchCV(estimator = clf, param_distributions = random_grid2,\n",
    "                               n_iter = 20, cv = 10, verbose=2, random_state=42, n_jobs = -1)\n",
    "# Fit the random search model\n",
    "rf_random.fit(X_train, y_train)"
   ]
  },
  {
   "cell_type": "code",
   "execution_count": 348,
   "id": "1ed4a25c",
   "metadata": {},
   "outputs": [
    {
     "name": "stdout",
     "output_type": "stream",
     "text": [
      "RandomForestClassifier(max_features='sqrt', min_samples_leaf=4,\n",
      "                       min_samples_split=10, n_estimators=500)\n",
      "{'n_estimators': 500, 'min_samples_split': 10, 'min_samples_leaf': 4, 'max_features': 'sqrt', 'max_depth': None, 'bootstrap': True}\n",
      "0.8312819203268642\n"
     ]
    }
   ],
   "source": [
    "print(rf_random.best_estimator_)\n",
    "print(rf_random.best_params_)\n",
    "print(rf_random.best_score_)"
   ]
  },
  {
   "cell_type": "code",
   "execution_count": 438,
   "id": "a98d7390",
   "metadata": {},
   "outputs": [
    {
     "name": "stdout",
     "output_type": "stream",
     "text": [
      "(0.7942583732057417, 332)\n"
     ]
    }
   ],
   "source": [
    "rfc = RandomForestClassifier(n_estimators = 200, max_depth=40, min_samples_split = 5, \n",
    "                            min_samples_leaf = 2, max_features = 'auto',\n",
    "                            bootstrap = True,)\n",
    "clf.fit(X_train, y_train)\n",
    "y_pred = clf.predict(X_test)\n",
    "y_pred = np.array(y_pred)\n",
    "\n",
    "print(exito(y_pred, y_test))\n",
    "RFC_HT_points = exito(y_pred, y_test)[0]\n",
    "K_RFC_HT_points = 0.78947\n",
    "\n",
    "\n"
   ]
  },
  {
   "cell_type": "markdown",
   "id": "f7cd3684",
   "metadata": {},
   "source": [
    "# Mejores predicciones in Kaggle\n",
    "\n",
    "n_estimators = 200, max_depth=40, min_samples_split = 5, \n",
    "min_samples_leaf = 2, max_features = 'auto',\n",
    "bootstrap = True)"
   ]
  },
  {
   "cell_type": "code",
   "execution_count": 293,
   "id": "61c41b9d",
   "metadata": {},
   "outputs": [],
   "source": [
    "submission_generator(y_pred, \"_RFC_hyperCV_\")"
   ]
  },
  {
   "cell_type": "code",
   "execution_count": null,
   "id": "0d471a67",
   "metadata": {},
   "outputs": [],
   "source": [
    "v = range(25,1000, 50)\n",
    "probs = []\n",
    "def precision_RFC():\n",
    "    for i in range(0,(len(range(25,1000, 50)))):\n",
    "        clf = RandomForestClassifier(n_estimators=v[i], random_state=100)\n",
    "        n_estimators=v[i]\n",
    "        clf.fit(X_train, y_train)\n",
    "        y_pred = clf.predict(X_test)\n",
    "        y_pred = np.array(y_pred)\n",
    "        value = exito(y_pred, y_test)[0]\n",
    "        probs.append(value)\n",
    "        print(probs)\n",
    "precision_RFC()"
   ]
  },
  {
   "cell_type": "markdown",
   "id": "17302cba",
   "metadata": {},
   "source": [
    "# Support Vector Machines Classification MODEL"
   ]
  },
  {
   "cell_type": "code",
   "execution_count": 320,
   "id": "78c1f4bc",
   "metadata": {},
   "outputs": [],
   "source": [
    "svc = svm.SVC(kernel=\"linear\")\n",
    "svc.fit(X_train, y_train)\n",
    "y_pred = svc.predict(X_test)\n",
    "y_pred = y_pred.tolist()"
   ]
  },
  {
   "cell_type": "code",
   "execution_count": 321,
   "id": "dfbd2882",
   "metadata": {},
   "outputs": [
    {
     "name": "stdout",
     "output_type": "stream",
     "text": [
      "0.9880382775119617\n",
      "[[266   0]\n",
      " [  5 147]]\n"
     ]
    }
   ],
   "source": [
    "print(svc.score(X_test,y_test))\n",
    "matriz = confusion_matrix(y_test, y_pred)\n",
    "print(matriz)\n",
    "SVM_points = exito(y_pred, y_test)[0]\n"
   ]
  },
  {
   "cell_type": "code",
   "execution_count": 51,
   "id": "94097e5c",
   "metadata": {},
   "outputs": [],
   "source": [
    "submission_generator(y_pred, \"_SVM_sigmoid\")\n"
   ]
  },
  {
   "cell_type": "markdown",
   "id": "a3c5d6aa",
   "metadata": {},
   "source": [
    "# # Hyperparemeter tuning"
   ]
  },
  {
   "cell_type": "code",
   "execution_count": 29,
   "id": "270a5da8",
   "metadata": {},
   "outputs": [
    {
     "data": {
      "text/plain": [
       "{'kernel': ['linear'], 'gamma': ['scale', 'auto']}"
      ]
     },
     "execution_count": 29,
     "metadata": {},
     "output_type": "execute_result"
    }
   ],
   "source": [
    "param_grid = {\n",
    "                'kernel': ['linear'],\n",
    "               # 'C': [0.001, 0.01, 0.1, 1, 10, 100],\n",
    "                'gamma' : ['scale', 'auto']\n",
    "             }\n",
    "param_grid"
   ]
  },
  {
   "cell_type": "code",
   "execution_count": 162,
   "id": "a312f8fe",
   "metadata": {
    "scrolled": false
   },
   "outputs": [
    {
     "name": "stdout",
     "output_type": "stream",
     "text": [
      "Best score: 0.788508682328907\n",
      "Best parameters: {'gamma': 'scale', 'kernel': 'linear'}\n",
      "CPU times: total: 0 ns\n",
      "Wall time: 0 ns\n"
     ]
    }
   ],
   "source": [
    "%%time\n",
    "\n",
    "svc = svm.SVC()\n",
    "print (np.mean(cross_val_score(clf, X_train, y_train, cv=5)))\n",
    "grid_svc = GridSearchCV(svc, param_grid, cv=10, scoring='accuracy')\n",
    "grid_svc.fit(X_train, y_train)\n",
    "\n",
    "y_pred = grid_svc.predict(X_test)\n",
    "\n",
    "print('Best score: {}'.format(grid_svc.best_score_))\n",
    "print('Best parameters: {}'.format(grid_svc.best_params_))"
   ]
  },
  {
   "cell_type": "code",
   "execution_count": 32,
   "id": "1a82c000",
   "metadata": {},
   "outputs": [
    {
     "name": "stdout",
     "output_type": "stream",
     "text": [
      "(0.9880382775119617, 413)\n"
     ]
    }
   ],
   "source": [
    "svc = svm.SVC(kernel = 'linear', gamma = 'scale')\n",
    "svc.fit(X_train, y_train)\n",
    "y_pred = svc.predict(X_test)\n",
    "print(exito(y_pred, y_test))"
   ]
  },
  {
   "cell_type": "code",
   "execution_count": 161,
   "id": "2a40b874",
   "metadata": {},
   "outputs": [],
   "source": [
    "submission_generator(y_pred, \"_SVM_CV_scale\")\n"
   ]
  },
  {
   "cell_type": "code",
   "execution_count": 27,
   "id": "9d1069e2",
   "metadata": {},
   "outputs": [
    {
     "data": {
      "text/plain": [
       "(0.9880382775119617, 413)"
      ]
     },
     "execution_count": 27,
     "metadata": {},
     "output_type": "execute_result"
    }
   ],
   "source": [
    "exito(y_pred, y_test)"
   ]
  },
  {
   "cell_type": "markdown",
   "id": "e1873761",
   "metadata": {},
   "source": [
    "# Logistic Regression MODEL"
   ]
  },
  {
   "cell_type": "code",
   "execution_count": 69,
   "id": "49a35394",
   "metadata": {},
   "outputs": [
    {
     "name": "stdout",
     "output_type": "stream",
     "text": [
      "0.9330143540669856\n"
     ]
    }
   ],
   "source": [
    "escalar = StandardScaler()\n",
    "X_train_sc = escalar.fit_transform(X_train)\n",
    "X_test_sc = escalar.transform(X_test)\n",
    "\n",
    "algoritmo = LogisticRegression()\n",
    "algoritmo.fit(X_train_sc, y_train)\n",
    "\n",
    "y_pred2 = algoritmo.predict(X_test_sc)\n",
    "y_pred2 = y_pred2.tolist()\n",
    "exito(y_pred2, y_test)\n",
    "LR_points = exito(y_pred2, y_test)[0]\n",
    "print(LR_points)"
   ]
  },
  {
   "cell_type": "code",
   "execution_count": null,
   "id": "a29b4569",
   "metadata": {},
   "outputs": [],
   "source": [
    "matriz = confusion_matrix(vector_reales, y_pred2)\n",
    "print(matriz)\n",
    "#clf.score(y_pred2, y_test)"
   ]
  },
  {
   "cell_type": "code",
   "execution_count": null,
   "id": "b71563a9",
   "metadata": {},
   "outputs": [],
   "source": [
    "submission_generator(y_pred2, \"_LogReg\")"
   ]
  },
  {
   "cell_type": "markdown",
   "id": "d98f9f9c",
   "metadata": {},
   "source": [
    "# Hyperparemeters tuning"
   ]
  },
  {
   "cell_type": "code",
   "execution_count": 107,
   "id": "d12d22fd",
   "metadata": {},
   "outputs": [],
   "source": [
    "param_grid_ = [{\n",
    "    'penalty': ['l1', 'l2', 'elasticnet', 'none'],\n",
    "    'C': np.logspace(-4,4,20),\n",
    "    'max_iter' : [100, 1000, 2500, 5000],\n",
    "    'solver' : ['lbfgs', 'newton-cg', 'liblinear', 'sag', 'saga']\n",
    "             }]\n",
    "\n",
    "param_grid1 = [{\n",
    "    'penalty': ['elasticnet', 'none'],\n",
    "    'C': np.logspace(-4,4,20),\n",
    "    'max_iter' : [100, 500, 1000],\n",
    "    'solver' : ['lbfgs', 'newton-cg']\n",
    "             }]\n",
    "\n",
    "\n",
    "param_grid1 = [{\n",
    "    'penalty': ['l1', 'l2',],\n",
    "    'C': np.logspace(-4,4,20),\n",
    "    'max_iter' : [2500, 5000],\n",
    "    'solver' : ['liblinear', 'sag', 'saga']\n",
    "             }]\n",
    "param_GRID = {\n",
    "    \"average\": [True, False],\n",
    "    \"l1_ratio\": np.linspace(0, 1, num=10),\n",
    "    \"alpha\": np.power(10, np.arange(-2, 1, dtype=float)),\n",
    "}"
   ]
  },
  {
   "cell_type": "markdown",
   "id": "6ef6a2a1",
   "metadata": {},
   "source": [
    "# GRAPHS"
   ]
  },
  {
   "cell_type": "markdown",
   "id": "9a2b1468",
   "metadata": {},
   "source": [
    "Random Forest Classifier Plots"
   ]
  },
  {
   "cell_type": "code",
   "execution_count": 441,
   "id": "ad2ce4a4",
   "metadata": {},
   "outputs": [
    {
     "data": {
      "image/png": "[encoded data removed]",
      "text/plain": [
       "<Figure size 432x288 with 1 Axes>"
      ]
     },
     "metadata": {
      "needs_background": "light"
     },
     "output_type": "display_data"
    },
    {
     "name": "stdout",
     "output_type": "stream",
     "text": [
      "[0.8014354066985646, 0.7583732057416268, 0.7942583732057417]\n",
      "[0.78708, 0.77751, 0.78947]\n"
     ]
    }
   ],
   "source": [
    "import matplotlib.pyplot as plt\n",
    "\n",
    "\n",
    "labels = [\"standard\", \"with cross-validation\", \"hyperparameter tuning\"]\n",
    "jupyter = [RFC_points, RFC_CV_points, RFC_HT_points]\n",
    "kaggle = [K_RFC_points, K_RFC_CV_points, K_RFC_HT_points]\n",
    "width = 0.35  # the width of the bars: can also be len(x) sequence\n",
    "\n",
    "fig, ax = plt.subplots()\n",
    "\n",
    "ax.bar(labels, kaggle, width,label='Kaggle')\n",
    "\n",
    "ax.bar(labels, jupyter, width,label='Jupyter')\n",
    "\n",
    "\n",
    "ax.set_ylabel('% accurate')\n",
    "ax.set_title('Scores by group and gender')\n",
    "ax.legend()\n",
    "\n",
    "plt.show()\n",
    "print(jupyter)\n",
    "print(kaggle)"
   ]
  },
  {
   "cell_type": "markdown",
   "id": "767e4a01",
   "metadata": {},
   "source": [
    "Support Vector Machines Graph"
   ]
  },
  {
   "cell_type": "code",
   "execution_count": null,
   "id": "3e86229e",
   "metadata": {},
   "outputs": [],
   "source": [
    "prob_modelos = [SVM_points\n",
    "print(prob_modelos)\n",
    "\n",
    "fig, ax = plt.subplots()\n",
    "plt.bar((range(3)),prob_modelos,color=\"#8A2BE2\")\n",
    "modelos = (\"RFC\", \"RFC_CV\", \"RFC_HT\" \"SVM\", \"LR\")\n",
    "x_pos = np.arange(len(modelos))\n",
    "ax.set_xticks(x_pos, labels=modelos)\n",
    "ax.set_xlabel('MODELOS')\n",
    "fig.set_size_inches(10, 6)\n",
    "plt.show()"
   ]
  },
  {
   "cell_type": "markdown",
   "id": "9db5b053",
   "metadata": {},
   "source": [
    "# APUNTES"
   ]
  },
  {
   "cell_type": "code",
   "execution_count": null,
   "id": "aa5b28c0",
   "metadata": {},
   "outputs": [],
   "source": [
    "#que se vayan generando graficas diferentes y sin fijar random state\n",
    "#hacer una grafica de las graficas (que modelo tiene los picos mas altos, mas bajos, mas media."
   ]
  },
  {
   "cell_type": "code",
   "execution_count": null,
   "id": "87d3e5cf",
   "metadata": {},
   "outputs": [],
   "source": [
    "pip install jupyter_contrib_nbextensions"
   ]
  },
  {
   "cell_type": "code",
   "execution_count": null,
   "id": "b14f2d84",
   "metadata": {},
   "outputs": [],
   "source": [
    "models = pd.DataFrame({\n",
    "    'Model': ['Support Vector Machines', 'KNN', 'Logistic Regression', \n",
    "              'Random Forest', 'Naive Bayes', 'Perceptron', \n",
    "              'Stochastic Gradient Decent', 'Linear SVC', \n",
    "              'Decision Tree'],\n",
    "    'Score': [acc_svc, acc_knn, acc_log, \n",
    "              acc_random_forest, acc_gaussian, acc_perceptron, \n",
    "              acc_sgd, acc_linear_svc, acc_decision_tree]})\n",
    "models.sort_values(by='Score', ascending=False)"
   ]
  },
  {
   "cell_type": "code",
   "execution_count": 177,
   "id": "189c0026",
   "metadata": {},
   "outputs": [],
   "source": [
    "from sklearn.neighbors import KNeighborsClassifier\n",
    "knn = KNeighborsClassifier(n_neighbors=36,leaf_size=13,p=1)\n",
    "knn.fit(X_train,y_train)\n",
    "pred = knn.predict(X_test)"
   ]
  },
  {
   "cell_type": "code",
   "execution_count": 178,
   "id": "87ffd5bd",
   "metadata": {},
   "outputs": [
    {
     "data": {
      "text/plain": [
       "(0.631578947368421, 264)"
      ]
     },
     "execution_count": 178,
     "metadata": {},
     "output_type": "execute_result"
    }
   ],
   "source": [
    "exito(pred,y_pred)"
   ]
  },
  {
   "cell_type": "code",
   "execution_count": 171,
   "id": "5bb1f50a",
   "metadata": {
    "scrolled": true
   },
   "outputs": [
    {
     "data": {
      "image/png": "[encoded data removed]",
      "text/plain": [
       "<Figure size 432x288 with 1 Axes>"
      ]
     },
     "metadata": {
      "needs_background": "light"
     },
     "output_type": "display_data"
    }
   ],
   "source": [
    "k_error_rate = []\n",
    "\n",
    "for i in range(1,40):\n",
    "    \n",
    "    knn = KNeighborsClassifier(n_neighbors=i)\n",
    "    knn.fit(X_train,y_train)\n",
    "    pred_i = knn.predict(X_test)\n",
    "    k_error_rate.append(np.mean(pred_i != y_test))\n",
    "#plt.figure(figsize=(10,8))\n",
    "plt.plot(range(1,40),k_error_rate,color='blue', linestyle='dashed', marker='o',\n",
    "         markerfacecolor='red', markersize=10)\n",
    "plt.title('Error Rate vs. K Value')\n",
    "plt.xlabel('K')\n",
    "plt.ylabel('Error Rate')\n",
    "plt.savefig(\"figure.png\")"
   ]
  },
  {
   "cell_type": "markdown",
   "id": "40dba8fa",
   "metadata": {},
   "source": [
    "# K-NEIGHBOURS\n"
   ]
  },
  {
   "cell_type": "code",
   "execution_count": 209,
   "id": "8eed4639",
   "metadata": {},
   "outputs": [
    {
     "name": "stdout",
     "output_type": "stream",
     "text": [
      "              precision    recall  f1-score   support\n",
      "\n",
      "           0       0.66      0.91      0.77       266\n",
      "           1       0.55      0.18      0.28       152\n",
      "\n",
      "    accuracy                           0.65       418\n",
      "   macro avg       0.61      0.55      0.52       418\n",
      "weighted avg       0.62      0.65      0.59       418\n",
      "\n"
     ]
    },
    {
     "data": {
      "text/plain": [
       "0.5488721804511277"
      ]
     },
     "execution_count": 209,
     "metadata": {},
     "output_type": "execute_result"
    }
   ],
   "source": [
    "knn = KNeighborsClassifier()\n",
    "#Create x and y variables.\n",
    "from sklearn.neighbors import KNeighborsClassifier\n",
    "from sklearn.metrics import classification_report\n",
    "from sklearn.model_selection import train_test_split\n",
    "from sklearn.metrics import roc_auc_score\n",
    "from sklearn.model_selection import GridSearchCV\n",
    "#Split data into training and testing.\n",
    "#Training the model.\n",
    "knn.fit(X_train, y_train)\n",
    "#Predict test data set.\n",
    "y_pred = knn.predict(X_test)\n",
    "#Checking performance our model with classification report.\n",
    "print(classification_report(y_test, y_pred))\n",
    "#Checking performance our model with ROC Score.\n",
    "roc_auc_score(y_test, y_pred)"
   ]
  },
  {
   "cell_type": "code",
   "execution_count": 241,
   "id": "198a9c68",
   "metadata": {},
   "outputs": [
    {
     "name": "stderr",
     "output_type": "stream",
     "text": [
      "C:\\Users\\Cosas\\AppData\\Local\\Programs\\Python\\Python310\\lib\\site-packages\\sklearn\\model_selection\\_validation.py:372: FitFailedWarning: \n",
      "10 fits failed out of a total of 10.\n",
      "The score on these train-test partitions for these parameters will be set to nan.\n",
      "If these failures are not expected, you can try to debug them by setting error_score='raise'.\n",
      "\n",
      "Below are more details about the failures:\n",
      "--------------------------------------------------------------------------------\n",
      "10 fits failed with the following error:\n",
      "Traceback (most recent call last):\n",
      "  File \"C:\\Users\\Cosas\\AppData\\Local\\Programs\\Python\\Python310\\lib\\site-packages\\sklearn\\model_selection\\_validation.py\", line 680, in _fit_and_score\n",
      "    estimator.fit(X_train, y_train, **fit_params)\n",
      "  File \"C:\\Users\\Cosas\\AppData\\Local\\Programs\\Python\\Python310\\lib\\site-packages\\sklearn\\neighbors\\_classification.py\", line 198, in fit\n",
      "    return self._fit(X, y)\n",
      "  File \"C:\\Users\\Cosas\\AppData\\Local\\Programs\\Python\\Python310\\lib\\site-packages\\sklearn\\neighbors\\_base.py\", line 533, in _fit\n",
      "    and self.n_neighbors >= self._fit_X.shape[0] // 2\n",
      "TypeError: '>=' not supported between instances of 'str' and 'int'\n",
      "\n",
      "  warnings.warn(some_fits_failed_message, FitFailedWarning)\n",
      "C:\\Users\\Cosas\\AppData\\Local\\Programs\\Python\\Python310\\lib\\site-packages\\sklearn\\model_selection\\_search.py:969: UserWarning: One or more of the test scores are non-finite: [nan]\n",
      "  warnings.warn(\n"
     ]
    },
    {
     "ename": "TypeError",
     "evalue": "'>=' not supported between instances of 'str' and 'int'",
     "output_type": "error",
     "traceback": [
      "\u001b[1;31m---------------------------------------------------------------------------\u001b[0m",
      "\u001b[1;31mTypeError\u001b[0m                                 Traceback (most recent call last)",
      "Input \u001b[1;32mIn [241]\u001b[0m, in \u001b[0;36m<cell line: 16>\u001b[1;34m()\u001b[0m\n\u001b[0;32m     14\u001b[0m clf \u001b[38;5;241m=\u001b[39m GridSearchCV(knn_2, hyperparameters, cv\u001b[38;5;241m=\u001b[39m\u001b[38;5;241m10\u001b[39m)\n\u001b[0;32m     15\u001b[0m \u001b[38;5;66;03m#Fit the model\u001b[39;00m\n\u001b[1;32m---> 16\u001b[0m best_model \u001b[38;5;241m=\u001b[39m \u001b[43mclf\u001b[49m\u001b[38;5;241;43m.\u001b[39;49m\u001b[43mfit\u001b[49m\u001b[43m(\u001b[49m\u001b[43mX_train\u001b[49m\u001b[43m,\u001b[49m\u001b[43m \u001b[49m\u001b[43my_train\u001b[49m\u001b[43m)\u001b[49m\n",
      "File \u001b[1;32m~\\AppData\\Local\\Programs\\Python\\Python310\\lib\\site-packages\\sklearn\\model_selection\\_search.py:926\u001b[0m, in \u001b[0;36mBaseSearchCV.fit\u001b[1;34m(self, X, y, groups, **fit_params)\u001b[0m\n\u001b[0;32m    924\u001b[0m refit_start_time \u001b[38;5;241m=\u001b[39m time\u001b[38;5;241m.\u001b[39mtime()\n\u001b[0;32m    925\u001b[0m \u001b[38;5;28;01mif\u001b[39;00m y \u001b[38;5;129;01mis\u001b[39;00m \u001b[38;5;129;01mnot\u001b[39;00m \u001b[38;5;28;01mNone\u001b[39;00m:\n\u001b[1;32m--> 926\u001b[0m     \u001b[38;5;28mself\u001b[39m\u001b[38;5;241m.\u001b[39mbest_estimator_\u001b[38;5;241m.\u001b[39mfit(X, y, \u001b[38;5;241m*\u001b[39m\u001b[38;5;241m*\u001b[39mfit_params)\n\u001b[0;32m    927\u001b[0m \u001b[38;5;28;01melse\u001b[39;00m:\n\u001b[0;32m    928\u001b[0m     \u001b[38;5;28mself\u001b[39m\u001b[38;5;241m.\u001b[39mbest_estimator_\u001b[38;5;241m.\u001b[39mfit(X, \u001b[38;5;241m*\u001b[39m\u001b[38;5;241m*\u001b[39mfit_params)\n",
      "File \u001b[1;32m~\\AppData\\Local\\Programs\\Python\\Python310\\lib\\site-packages\\sklearn\\neighbors\\_classification.py:198\u001b[0m, in \u001b[0;36mKNeighborsClassifier.fit\u001b[1;34m(self, X, y)\u001b[0m\n\u001b[0;32m    179\u001b[0m \u001b[38;5;124;03m\"\"\"Fit the k-nearest neighbors classifier from the training dataset.\u001b[39;00m\n\u001b[0;32m    180\u001b[0m \n\u001b[0;32m    181\u001b[0m \u001b[38;5;124;03mParameters\u001b[39;00m\n\u001b[1;32m   (...)\u001b[0m\n\u001b[0;32m    194\u001b[0m \u001b[38;5;124;03m    The fitted k-nearest neighbors classifier.\u001b[39;00m\n\u001b[0;32m    195\u001b[0m \u001b[38;5;124;03m\"\"\"\u001b[39;00m\n\u001b[0;32m    196\u001b[0m \u001b[38;5;28mself\u001b[39m\u001b[38;5;241m.\u001b[39mweights \u001b[38;5;241m=\u001b[39m _check_weights(\u001b[38;5;28mself\u001b[39m\u001b[38;5;241m.\u001b[39mweights)\n\u001b[1;32m--> 198\u001b[0m \u001b[38;5;28;01mreturn\u001b[39;00m \u001b[38;5;28;43mself\u001b[39;49m\u001b[38;5;241;43m.\u001b[39;49m\u001b[43m_fit\u001b[49m\u001b[43m(\u001b[49m\u001b[43mX\u001b[49m\u001b[43m,\u001b[49m\u001b[43m \u001b[49m\u001b[43my\u001b[49m\u001b[43m)\u001b[49m\n",
      "File \u001b[1;32m~\\AppData\\Local\\Programs\\Python\\Python310\\lib\\site-packages\\sklearn\\neighbors\\_base.py:533\u001b[0m, in \u001b[0;36mNeighborsBase._fit\u001b[1;34m(self, X, y)\u001b[0m\n\u001b[0;32m    523\u001b[0m \u001b[38;5;28mself\u001b[39m\u001b[38;5;241m.\u001b[39mn_samples_fit_ \u001b[38;5;241m=\u001b[39m X\u001b[38;5;241m.\u001b[39mshape[\u001b[38;5;241m0\u001b[39m]\n\u001b[0;32m    525\u001b[0m \u001b[38;5;28;01mif\u001b[39;00m \u001b[38;5;28mself\u001b[39m\u001b[38;5;241m.\u001b[39m_fit_method \u001b[38;5;241m==\u001b[39m \u001b[38;5;124m\"\u001b[39m\u001b[38;5;124mauto\u001b[39m\u001b[38;5;124m\"\u001b[39m:\n\u001b[0;32m    526\u001b[0m     \u001b[38;5;66;03m# A tree approach is better for small number of neighbors or small\u001b[39;00m\n\u001b[0;32m    527\u001b[0m     \u001b[38;5;66;03m# number of features, with KDTree generally faster when available\u001b[39;00m\n\u001b[0;32m    528\u001b[0m     \u001b[38;5;28;01mif\u001b[39;00m (\n\u001b[0;32m    529\u001b[0m         \u001b[38;5;28mself\u001b[39m\u001b[38;5;241m.\u001b[39mmetric \u001b[38;5;241m==\u001b[39m \u001b[38;5;124m\"\u001b[39m\u001b[38;5;124mprecomputed\u001b[39m\u001b[38;5;124m\"\u001b[39m\n\u001b[0;32m    530\u001b[0m         \u001b[38;5;129;01mor\u001b[39;00m \u001b[38;5;28mself\u001b[39m\u001b[38;5;241m.\u001b[39m_fit_X\u001b[38;5;241m.\u001b[39mshape[\u001b[38;5;241m1\u001b[39m] \u001b[38;5;241m>\u001b[39m \u001b[38;5;241m15\u001b[39m\n\u001b[0;32m    531\u001b[0m         \u001b[38;5;129;01mor\u001b[39;00m (\n\u001b[0;32m    532\u001b[0m             \u001b[38;5;28mself\u001b[39m\u001b[38;5;241m.\u001b[39mn_neighbors \u001b[38;5;129;01mis\u001b[39;00m \u001b[38;5;129;01mnot\u001b[39;00m \u001b[38;5;28;01mNone\u001b[39;00m\n\u001b[1;32m--> 533\u001b[0m             \u001b[38;5;129;01mand\u001b[39;00m \u001b[38;5;28;43mself\u001b[39;49m\u001b[38;5;241;43m.\u001b[39;49m\u001b[43mn_neighbors\u001b[49m\u001b[43m \u001b[49m\u001b[38;5;241;43m>\u001b[39;49m\u001b[38;5;241;43m=\u001b[39;49m\u001b[43m \u001b[49m\u001b[38;5;28;43mself\u001b[39;49m\u001b[38;5;241;43m.\u001b[39;49m\u001b[43m_fit_X\u001b[49m\u001b[38;5;241;43m.\u001b[39;49m\u001b[43mshape\u001b[49m\u001b[43m[\u001b[49m\u001b[38;5;241;43m0\u001b[39;49m\u001b[43m]\u001b[49m\u001b[43m \u001b[49m\u001b[38;5;241;43m/\u001b[39;49m\u001b[38;5;241;43m/\u001b[39;49m\u001b[43m \u001b[49m\u001b[38;5;241;43m2\u001b[39;49m\n\u001b[0;32m    534\u001b[0m         )\n\u001b[0;32m    535\u001b[0m     ):\n\u001b[0;32m    536\u001b[0m         \u001b[38;5;28mself\u001b[39m\u001b[38;5;241m.\u001b[39m_fit_method \u001b[38;5;241m=\u001b[39m \u001b[38;5;124m\"\u001b[39m\u001b[38;5;124mbrute\u001b[39m\u001b[38;5;124m\"\u001b[39m\n\u001b[0;32m    537\u001b[0m     \u001b[38;5;28;01melse\u001b[39;00m:\n",
      "\u001b[1;31mTypeError\u001b[0m: '>=' not supported between instances of 'str' and 'int'"
     ]
    }
   ],
   "source": [
    "leaf_size = [10,20,30,40,50]\n",
    "n_neighbors = [5,10,20,40]\n",
    "\n",
    "#Convert to dictionary\n",
    "hyperparameters = [{\n",
    "    'leaf_size': ['leaf_size'],\n",
    "    'n_neighbors': ['n_neighbors'],\n",
    "             }]\n",
    "\n",
    "\n",
    "#Create new KNN object\n",
    "knn_2 = KNeighborsClassifier()\n",
    "#Use GridSearch\n",
    "clf = GridSearchCV(knn_2, hyperparameters, cv=10)\n",
    "#Fit the model\n",
    "best_model = clf.fit(X_train, y_train)\n",
    "#Print The value of best Hyperparameters\n",
    "#print('Best leaf_size:', best_model.best_estimator_.get_params()['leaf_size'])\n",
    "#print('Best p:', best_model.best_estimator_.get_params()['p'])\n",
    "#print('Best n_neighbors:', best_model.best_estimator_.get_params()['n_neighbors'])"
   ]
  },
  {
   "cell_type": "code",
   "execution_count": 220,
   "id": "23199bf6",
   "metadata": {},
   "outputs": [
    {
     "data": {
      "text/plain": [
       "dict_keys(['algorithm', 'leaf_size', 'metric', 'metric_params', 'n_jobs', 'n_neighbors', 'p', 'weights'])"
      ]
     },
     "execution_count": 220,
     "metadata": {},
     "output_type": "execute_result"
    }
   ],
   "source": [
    "knn.get_params().keys()"
   ]
  },
  {
   "cell_type": "code",
   "execution_count": 212,
   "id": "07ca9dbb",
   "metadata": {},
   "outputs": [
    {
     "data": {
      "text/plain": [
       "4"
      ]
     },
     "execution_count": 212,
     "metadata": {},
     "output_type": "execute_result"
    }
   ],
   "source": [
    "2+2"
   ]
  },
  {
   "cell_type": "markdown",
   "id": "90637d78",
   "metadata": {},
   "source": [
    "# MultiLayer Perceptron"
   ]
  },
  {
   "cell_type": "code",
   "execution_count": 184,
   "id": "e5bdeddc",
   "metadata": {},
   "outputs": [],
   "source": [
    "from sklearn.neural_network import MLPClassifier\n",
    "MLP = MLPClassifier\n",
    "MLP = MLPClassifier(random_state=0, max_iter=600).fit(X_train, y_train)\n",
    "prediction = MLP.predict(X_test)\n"
   ]
  },
  {
   "cell_type": "code",
   "execution_count": 444,
   "id": "684c27d5",
   "metadata": {},
   "outputs": [
    {
     "name": "stdout",
     "output_type": "stream",
     "text": [
      "80.76 {'activation': 'tanh', 'alpha': 0.0001, 'hidden_layer_sizes': (20,), 'learning_rate': 'constant', 'solver': 'adam'}\n"
     ]
    }
   ],
   "source": [
    "MLP_GSC = MLPClassifier(random_state=0, max_iter=600, activation = 'tanh', alpha = 0.0001, hidden_layer_sizes = (20,), \n",
    "                        learning_rate = 'constant', solver = 'adam')\n",
    "parameter_space = {\n",
    "    'hidden_layer_sizes': [(10,30,10),(20,)],\n",
    "    'activation': ['tanh', 'relu'],\n",
    "    'solver': ['sgd', 'adam'],\n",
    "    'alpha': [0.0001, 0.05],\n",
    "    'learning_rate': ['constant','adaptive'],\n",
    "}\n",
    "MLP_GSC = GridSearchCV(MLP_GSC, parameter_space, n_jobs=-1, cv=5)\n",
    "MLP_GSC.fit(X_train, y_train) # X is train samples and y is the corresponding labels\n",
    "acc_MLP_GSC = round(MLP_GSC.score(X_train, y_train) * 100, 2)\n",
    "print(acc_MLP_GSC,MLP_GSC.best_params_)\n",
    "\n"
   ]
  },
  {
   "cell_type": "code",
   "execution_count": 197,
   "id": "da956281",
   "metadata": {},
   "outputs": [
    {
     "data": {
      "text/plain": [
       "(0.8301435406698564, 347)"
      ]
     },
     "execution_count": 197,
     "metadata": {},
     "output_type": "execute_result"
    }
   ],
   "source": [
    "exito(predictionMLP, y_test)"
   ]
  },
  {
   "cell_type": "code",
   "execution_count": 198,
   "id": "b90de9cd",
   "metadata": {},
   "outputs": [],
   "source": [
    "predictionMLP = MLP_GSC.predict(X_test)\n",
    "\n",
    "exito(predictionMLP, y_test)\n",
    "submission_generator(predictionMLP, '_MLP')"
   ]
  }
 ],
 "metadata": {
  "kernelspec": {
   "display_name": "Python 3 (ipykernel)",
   "language": "python",
   "name": "python3"
  },
  "language_info": {
   "codemirror_mode": {
    "name": "ipython",
    "version": 3
   },
   "file_extension": ".py",
   "mimetype": "text/x-python",
   "name": "python",
   "nbconvert_exporter": "python",
   "pygments_lexer": "ipython3",
   "version": "3.10.4"
  }
 },
 "nbformat": 4,
 "nbformat_minor": 5
}
