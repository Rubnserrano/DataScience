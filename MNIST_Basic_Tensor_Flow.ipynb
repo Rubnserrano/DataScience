{
  "nbformat": 4,
  "nbformat_minor": 0,
  "metadata": {
    "colab": {
      "provenance": [],
      "authorship_tag": "ABX9TyO83Vtv/tG0oc8vF/VzrIN1",
      "include_colab_link": true
    },
    "kernelspec": {
      "name": "python3",
      "display_name": "Python 3"
    },
    "language_info": {
      "name": "python"
    }
  },
  "cells": [
    {
      "cell_type": "markdown",
      "metadata": {
        "id": "view-in-github",
        "colab_type": "text"
      },
      "source": [
        "<a href=\"https://colab.research.google.com/github/Rubnserrano/DataScience/blob/main/MNIST_Basic_Tensor_Flow.ipynb\" target=\"_parent\"><img src=\"https://colab.research.google.com/assets/colab-badge.svg\" alt=\"Open In Colab\"/></a>"
      ]
    },
    {
      "cell_type": "code",
      "execution_count": null,
      "metadata": {
        "colab": {
          "base_uri": "https://localhost:8080/"
        },
        "id": "cYGKEz3P-rVk",
        "outputId": "b0b39377-a247-449b-cfd5-f880725e1162"
      },
      "outputs": [
        {
          "output_type": "stream",
          "name": "stdout",
          "text": [
            "Looking in indexes: https://pypi.org/simple, https://us-python.pkg.dev/colab-wheels/public/simple/\n",
            "Requirement already satisfied: kaggle in /usr/local/lib/python3.7/dist-packages (1.5.12)\n",
            "Requirement already satisfied: six>=1.10 in /usr/local/lib/python3.7/dist-packages (from kaggle) (1.15.0)\n",
            "Requirement already satisfied: tqdm in /usr/local/lib/python3.7/dist-packages (from kaggle) (4.64.1)\n",
            "Requirement already satisfied: python-dateutil in /usr/local/lib/python3.7/dist-packages (from kaggle) (2.8.2)\n",
            "Requirement already satisfied: certifi in /usr/local/lib/python3.7/dist-packages (from kaggle) (2022.9.24)\n",
            "Requirement already satisfied: python-slugify in /usr/local/lib/python3.7/dist-packages (from kaggle) (6.1.2)\n",
            "Requirement already satisfied: urllib3 in /usr/local/lib/python3.7/dist-packages (from kaggle) (1.24.3)\n",
            "Requirement already satisfied: requests in /usr/local/lib/python3.7/dist-packages (from kaggle) (2.23.0)\n",
            "Requirement already satisfied: text-unidecode>=1.3 in /usr/local/lib/python3.7/dist-packages (from python-slugify->kaggle) (1.3)\n",
            "Requirement already satisfied: chardet<4,>=3.0.2 in /usr/local/lib/python3.7/dist-packages (from requests->kaggle) (3.0.4)\n",
            "Requirement already satisfied: idna<3,>=2.5 in /usr/local/lib/python3.7/dist-packages (from requests->kaggle) (2.10)\n"
          ]
        }
      ],
      "source": [
        "!pip install kaggle"
      ]
    },
    {
      "cell_type": "code",
      "source": [
        "! mkdir ~/.kaggle"
      ],
      "metadata": {
        "colab": {
          "base_uri": "https://localhost:8080/"
        },
        "id": "cVPxtWsx_g3p",
        "outputId": "6a033f58-827d-4d73-c4ca-81b0ab715708"
      },
      "execution_count": null,
      "outputs": [
        {
          "output_type": "stream",
          "name": "stdout",
          "text": [
            "mkdir: cannot create directory ‘/root/.kaggle’: File exists\n"
          ]
        }
      ]
    },
    {
      "cell_type": "code",
      "source": [
        "! cp /kaggle.json ~/.kaggle\n"
      ],
      "metadata": {
        "id": "P9eaiXJL_lfT"
      },
      "execution_count": null,
      "outputs": []
    },
    {
      "cell_type": "code",
      "source": [
        "! chmod 600 ~/.kaggle/kaggle.json"
      ],
      "metadata": {
        "id": "Ue4kssqv_5q0"
      },
      "execution_count": null,
      "outputs": []
    },
    {
      "cell_type": "code",
      "source": [
        "! kaggle competitions download digit-recognizer\n"
      ],
      "metadata": {
        "colab": {
          "base_uri": "https://localhost:8080/"
        },
        "id": "wdiUZOHAAC0X",
        "outputId": "d53310d8-ab2c-4080-c70e-1794918bcca1"
      },
      "execution_count": null,
      "outputs": [
        {
          "output_type": "stream",
          "name": "stdout",
          "text": [
            "Downloading digit-recognizer.zip to /content\n",
            "\r  0% 0.00/15.3M [00:00<?, ?B/s]\n",
            "\r100% 15.3M/15.3M [00:00<00:00, 168MB/s]\n"
          ]
        }
      ]
    },
    {
      "cell_type": "code",
      "source": [
        "!ls"
      ],
      "metadata": {
        "colab": {
          "base_uri": "https://localhost:8080/"
        },
        "id": "5YTOJomfAUom",
        "outputId": "5f2f1a7c-e649-4b09-f647-86315f8c88de"
      },
      "execution_count": null,
      "outputs": [
        {
          "output_type": "stream",
          "name": "stdout",
          "text": [
            "digit-recognizer.zip  sample_data\n"
          ]
        }
      ]
    },
    {
      "cell_type": "code",
      "source": [
        "!unzip digit-recognizer.zip"
      ],
      "metadata": {
        "colab": {
          "base_uri": "https://localhost:8080/"
        },
        "id": "XyqBJt6RAdew",
        "outputId": "4f7a73bc-0378-4fad-d1a0-7f9be109fc8e"
      },
      "execution_count": null,
      "outputs": [
        {
          "output_type": "stream",
          "name": "stdout",
          "text": [
            "Archive:  digit-recognizer.zip\n",
            "  inflating: sample_submission.csv   \n",
            "  inflating: test.csv                \n",
            "  inflating: train.csv               \n"
          ]
        }
      ]
    },
    {
      "cell_type": "code",
      "source": [
        "import pandas as pd\n",
        "!ls\n",
        "train = pd.read_csv('train.csv')\n",
        "test = pd.read_csv('test.csv')\n",
        "y_train = train['label'] \n",
        "X_train = train.drop('label', axis=1)\n",
        "train.info()"
      ],
      "metadata": {
        "colab": {
          "base_uri": "https://localhost:8080/"
        },
        "id": "RB3gd0A4Ag-F",
        "outputId": "8f20845d-f90e-47fb-e06f-a443d9f50d7f"
      },
      "execution_count": 162,
      "outputs": [
        {
          "output_type": "stream",
          "name": "stdout",
          "text": [
            "digit-recognizer.zip  sample_data  sample_submission.csv  test.csv  train.csv\n",
            "<class 'pandas.core.frame.DataFrame'>\n",
            "RangeIndex: 42000 entries, 0 to 41999\n",
            "Columns: 785 entries, label to pixel783\n",
            "dtypes: int64(785)\n",
            "memory usage: 251.5 MB\n"
          ]
        }
      ]
    },
    {
      "cell_type": "code",
      "source": [
        "import numpy as np\n",
        "import tensorflow as tf\n",
        "import matplotlib.pyplot as plt\n"
      ],
      "metadata": {
        "id": "JBRY0x0HDIv0"
      },
      "execution_count": null,
      "outputs": []
    },
    {
      "cell_type": "code",
      "source": [
        "import random\n",
        "plt.figure(figsize=(5,5))\n",
        "def visualizacion(n=3,imgs=X_train_tensor, labels=y_train):\n",
        "  plt.figure(figsize=(2*n,2*n))\n",
        "  r_indexes=[]\n",
        "  for i in range(n): r_indexes.append(random.randint(0,imgs.shape[1]))\n",
        "  print(r_indexes)\n",
        "\n",
        "  for j in range(n):\n",
        "    plt.subplot(1,n,j+1) \n",
        "    plt.imshow(imgs[r_indexes[j],:].numpy().reshape((28,28)))\n",
        "    plt.title(f'Label = {labels[r_indexes[j]]}')\n",
        "\n",
        "visualizacion(6)"
      ],
      "metadata": {
        "colab": {
          "base_uri": "https://localhost:8080/",
          "height": 196
        },
        "id": "XU8Prt3QGGxT",
        "outputId": "1fc66499-b7be-4223-88da-69e7906c542e"
      },
      "execution_count": null,
      "outputs": [
        {
          "output_type": "stream",
          "name": "stdout",
          "text": [
            "[757, 78, 584, 605, 423, 249]\n"
          ]
        },
        {
          "output_type": "display_data",
          "data": {
            "text/plain": [
              "<Figure size 360x360 with 0 Axes>"
            ]
          },
          "metadata": {}
        },
        {
          "output_type": "display_data",
          "data": {
            "text/plain": [
              "<Figure size 864x864 with 6 Axes>"
            ],
            "image/png": "[encoded data removed]"
          },
          "metadata": {
            "needs_background": "light"
          }
        }
      ]
    },
    {
      "cell_type": "code",
      "source": [
        "X_train_tensor = tf.Variable(X_train)\n",
        "X_test_tensor = tf.Variable(test)\n",
        "y_train_tensor = tf.Variable(y_train)\n",
        "X_train = tf.reshape(X_train_tensor, [-1,image_width , image_height])\n",
        "X_test = tf.reshape(X_test_tensor, [-1,image_width , image_height])\n",
        "y_train = tf.Variable(y_train)\n"
      ],
      "metadata": {
        "id": "GdKuFXkBN3KI"
      },
      "execution_count": 227,
      "outputs": []
    },
    {
      "cell_type": "code",
      "source": [
        "X_train.shape, X_test.shape, y_train.shape\n",
        "X_train = X_train.numpy()\n",
        "X_test = X_test.numpy()\n",
        "y_train = y_train.numpy()\n",
        "X_train.shape, X_test.shape, y_train.shape"
      ],
      "metadata": {
        "colab": {
          "base_uri": "https://localhost:8080/"
        },
        "id": "dtaJAZgj7KJp",
        "outputId": "243cca0c-9dc6-4918-e1fa-e1dc89550091"
      },
      "execution_count": 228,
      "outputs": [
        {
          "output_type": "execute_result",
          "data": {
            "text/plain": [
              "((42000, 28, 28), (28000, 28, 28), (42000,))"
            ]
          },
          "metadata": {},
          "execution_count": 228
        }
      ]
    },
    {
      "cell_type": "code",
      "source": [
        "image_width = 28\n",
        "image_height = 28\n",
        "X_train_tensor = tf.reshape(X_train_tensor, [-1,image_width , image_height])\n",
        "X_test_tensor = tf.reshape(X_test_tensor, [-1,image_width , image_height])"
      ],
      "metadata": {
        "id": "IfhGdfZeRMuS"
      },
      "execution_count": 231,
      "outputs": []
    },
    {
      "cell_type": "code",
      "source": [
        "model = tf.keras.Sequential([\n",
        "    tf.keras.layers.Flatten(input_shape = (28,28)),\n",
        "    tf.keras.layers.Dense(25, activation = 'relu'),\n",
        "    tf.keras.layers.Dense(50, activation = 'relu'),\n",
        "    tf.keras.layers.Dense(100, activation = 'relu'),\n",
        "    tf.keras.layers.Dense(50, activation = 'relu'),\n",
        "    tf.keras.layers.Dense(10, activation = 'softmax'),\n",
        "])\n",
        "\n",
        "model.compile(loss = tf.keras.losses.SparseCategoricalCrossentropy(),\n",
        "                  optimizer = tf.keras.optimizers.Adam(),\n",
        "                  metrics = ['accuracy']\n",
        ")\n",
        "\n",
        "model.fit(X_train, y_train, epochs=10)"
      ],
      "metadata": {
        "id": "G2WOtggzJohI",
        "colab": {
          "base_uri": "https://localhost:8080/"
        },
        "outputId": "5b15c02e-6ebb-42ba-bac1-4c016f823511"
      },
      "execution_count": 232,
      "outputs": [
        {
          "output_type": "stream",
          "name": "stdout",
          "text": [
            "Epoch 1/10\n",
            "1313/1313 [==============================] - 5s 3ms/step - loss: 0.9956 - accuracy: 0.7520\n",
            "Epoch 2/10\n",
            "1313/1313 [==============================] - 4s 3ms/step - loss: 0.3410 - accuracy: 0.9021\n",
            "Epoch 3/10\n",
            "1313/1313 [==============================] - 4s 3ms/step - loss: 0.2645 - accuracy: 0.9241\n",
            "Epoch 4/10\n",
            "1313/1313 [==============================] - 4s 3ms/step - loss: 0.2268 - accuracy: 0.9343\n",
            "Epoch 5/10\n",
            "1313/1313 [==============================] - 5s 4ms/step - loss: 0.2026 - accuracy: 0.9410\n",
            "Epoch 6/10\n",
            "1313/1313 [==============================] - 6s 5ms/step - loss: 0.1815 - accuracy: 0.9463\n",
            "Epoch 7/10\n",
            "1313/1313 [==============================] - 7s 5ms/step - loss: 0.1646 - accuracy: 0.9515\n",
            "Epoch 8/10\n",
            "1313/1313 [==============================] - 5s 3ms/step - loss: 0.1517 - accuracy: 0.9547\n",
            "Epoch 9/10\n",
            "1313/1313 [==============================] - 4s 3ms/step - loss: 0.1457 - accuracy: 0.9572\n",
            "Epoch 10/10\n",
            "1313/1313 [==============================] - 4s 3ms/step - loss: 0.1292 - accuracy: 0.9620\n"
          ]
        },
        {
          "output_type": "execute_result",
          "data": {
            "text/plain": [
              "<keras.callbacks.History at 0x7fa7c171b710>"
            ]
          },
          "metadata": {},
          "execution_count": 232
        }
      ]
    },
    {
      "cell_type": "code",
      "source": [
        "# y_preds = model.predict(X_test)\n",
        "train2 = pd.read_csv('train.csv')\n",
        "test2 = pd.read_csv('test.csv')\n",
        "sample_sub = pd.read_csv('sample_submission.csv')\n",
        "predicciones = []\n",
        "numbers = [0,1,2,3,4,5,6,7,8,9]\n",
        "for i in range(X_test.shape[0]):\n",
        "  predicciones.append(numbers[y_preds[i].argmax()])\n",
        "\n",
        "# sample_sub['label'] = numbers[y_preds[].argmax()]\n",
        "submission = pd.DataFrame({'ImageId': sample_sub.ImageId.to_list(),\n",
        "                           'Label': predicciones})\n",
        "submission"
      ],
      "metadata": {
        "id": "MY1zIpiQ93_u"
      },
      "execution_count": 222,
      "outputs": []
    },
    {
      "cell_type": "code",
      "source": [
        "PATH_ = 'C:\\\\Users\\Cosas\\OneDrive\\Escritorio\\Data_Science\\mnist'\n",
        "# submission.to_csv(index=False)\n",
        "from google.colab import files\n",
        "submission.to_csv('output.csv', index=False) \n",
        "files.download('output.csv')"
      ],
      "metadata": {
        "colab": {
          "base_uri": "https://localhost:8080/",
          "height": 17
        },
        "id": "NCIWb_uyBsNu",
        "outputId": "f4daf20a-0f20-432d-f020-091ca1b82a58"
      },
      "execution_count": 226,
      "outputs": [
        {
          "output_type": "display_data",
          "data": {
            "text/plain": [
              "<IPython.core.display.Javascript object>"
            ],
            "application/javascript": [
              "\n",
              "    async function download(id, filename, size) {\n",
              "      if (!google.colab.kernel.accessAllowed) {\n",
              "        return;\n",
              "      }\n",
              "      const div = document.createElement('div');\n",
              "      const label = document.createElement('label');\n",
              "      label.textContent = `Downloading \"${filename}\": `;\n",
              "      div.appendChild(label);\n",
              "      const progress = document.createElement('progress');\n",
              "      progress.max = size;\n",
              "      div.appendChild(progress);\n",
              "      document.body.appendChild(div);\n",
              "\n",
              "      const buffers = [];\n",
              "      let downloaded = 0;\n",
              "\n",
              "      const channel = await google.colab.kernel.comms.open(id);\n",
              "      // Send a message to notify the kernel that we're ready.\n",
              "      channel.send({})\n",
              "\n",
              "      for await (const message of channel.messages) {\n",
              "        // Send a message to notify the kernel that we're ready.\n",
              "        channel.send({})\n",
              "        if (message.buffers) {\n",
              "          for (const buffer of message.buffers) {\n",
              "            buffers.push(buffer);\n",
              "            downloaded += buffer.byteLength;\n",
              "            progress.value = downloaded;\n",
              "          }\n",
              "        }\n",
              "      }\n",
              "      const blob = new Blob(buffers, {type: 'application/binary'});\n",
              "      const a = document.createElement('a');\n",
              "      a.href = window.URL.createObjectURL(blob);\n",
              "      a.download = filename;\n",
              "      div.appendChild(a);\n",
              "      a.click();\n",
              "      div.remove();\n",
              "    }\n",
              "  "
            ]
          },
          "metadata": {}
        },
        {
          "output_type": "display_data",
          "data": {
            "text/plain": [
              "<IPython.core.display.Javascript object>"
            ],
            "application/javascript": [
              "download(\"download_08537471-02ef-45d4-a0b9-8ab946f291f5\", \"output.csv\", 212908)"
            ]
          },
          "metadata": {}
        }
      ]
    },
    {
      "cell_type": "code",
      "source": [
        "model.summary()"
      ],
      "metadata": {
        "colab": {
          "base_uri": "https://localhost:8080/"
        },
        "id": "uY05Ur043Wq9",
        "outputId": "9e51fffb-dcbd-4be7-d596-be4fef59185e"
      },
      "execution_count": 144,
      "outputs": [
        {
          "output_type": "stream",
          "name": "stdout",
          "text": [
            "Model: \"sequential_30\"\n",
            "_________________________________________________________________\n",
            " Layer (type)                Output Shape              Param #   \n",
            "=================================================================\n",
            " flatten_30 (Flatten)        (None, 784)               0         \n",
            "                                                                 \n",
            " dense_70 (Dense)            (None, 4)                 3140      \n",
            "                                                                 \n",
            " dense_71 (Dense)            (None, 4)                 20        \n",
            "                                                                 \n",
            " dense_72 (Dense)            (None, 10)                50        \n",
            "                                                                 \n",
            "=================================================================\n",
            "Total params: 3,210\n",
            "Trainable params: 3,210\n",
            "Non-trainable params: 0\n",
            "_________________________________________________________________\n"
          ]
        }
      ]
    }
  ]
}