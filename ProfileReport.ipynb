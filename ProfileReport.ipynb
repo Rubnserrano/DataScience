import pandas as pd
from pandas_profiling import ProfileReport

PATH = ""

df = pd.read_csv(PATH)
profile = ProfileReport(df, title = 'Profile Report')

profile.to_notebook_iframe()
