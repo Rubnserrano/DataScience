{
  "nbformat": 4,
  "nbformat_minor": 0,
  "metadata": {
    "colab": {
      "provenance": [],
      "authorship_tag": "ABX9TyP96pkHVEIFHIwqk/v9Ijcl",
      "include_colab_link": true
    },
    "kernelspec": {
      "name": "python3",
      "display_name": "Python 3"
    },
    "language_info": {
      "name": "python"
    }
  },
  "cells": [
    {
      "cell_type": "markdown",
      "metadata": {
        "id": "view-in-github",
        "colab_type": "text"
      },
      "source": [
        "<a href=\"https://colab.research.google.com/github/Rubnserrano/DataScience/blob/main/00_curso_tensorflow_certificate.ipynb\" target=\"_parent\"><img src=\"https://colab.research.google.com/assets/colab-badge.svg\" alt=\"Open In Colab\"/></a>"
      ]
    },
    {
      "cell_type": "markdown",
      "source": [
        "# EJERCICIOS\n"
      ],
      "metadata": {
        "id": "A24sl0ov7yA7"
      }
    },
    {
      "cell_type": "markdown",
      "source": [
        "00.  TensorFlow Fundamentals Exercises\n",
        "01.  Create a vector, scalar, matrix and tensor with values of your choosing using tf.constant().\n",
        "02.  Find the shape, rank and size of the tensors you created in 1.\n",
        "03.  Create two tensors containing random values between 0 and 1 with shape [5, 300].\n",
        "04.  Multiply the two tensors you created in 3 using matrix multiplication.\n",
        "05.  Multiply the two tensors you created in 3 using dot product.\n",
        "06.  Create a tensor with random values between 0 and 1 with shape [224, 224, 3].\n",
        "0.7  Find the min and max values of the tensor you created in 6 along the first axis.\n",
        "0.8  Created a tensor with random values of shape [1, 224, 224, 3] then squeeze it to change the shape to [224, 224, 3].\n",
        "0.9  Create a tensor with shape [10] using your own choice of values, then find the index which has the maximum value.\n",
        "0.10 One-hot encode the tensor you created in 9."
      ],
      "metadata": {
        "id": "Q86wI6i48S5k"
      }
    },
    {
      "cell_type": "code",
      "source": [
        "2#\n",
        "shape1 = scalar.shape\n",
        "rank1 = scalar.ndim\n",
        "size1 = tf.size(scalar).numpy()\n",
        "print(f'Shape, Rank, Size of a scalar = {shape1, rank1, size1}')\n",
        "\n",
        "shape2 = vector.shape\n",
        "rank2 = vector.ndim\n",
        "size2 = tf.size(vector).numpy()\n",
        "print(f'Shape, Rank, Size of a vector = {shape2, rank2, size2}')\n",
        "\n",
        "shape3 = matrix.shape\n",
        "rank3= matrix.ndim\n",
        "size3 = tf.size(matrix).numpy()\n",
        "print(f'Shape, Rank, Size of a matrix = {shape3, rank3, size3}')\n",
        "\n",
        "\n"
      ],
      "metadata": {
        "colab": {
          "base_uri": "https://localhost:8080/"
        },
        "id": "sdwwGhawRnDp",
        "outputId": "c83d236f-2a3a-4ced-deac-92f2c35b6c34"
      },
      "execution_count": 9,
      "outputs": [
        {
          "output_type": "stream",
          "name": "stdout",
          "text": [
            "Shape, Rank, Size of a scalar = (TensorShape([]), 0, 1)\n",
            "Shape, Rank, Size of a vector = (TensorShape([2]), 1, 2)\n",
            "Shape, Rank, Size of a matrix = (TensorShape([3, 3]), 2, 9)\n"
          ]
        }
      ]
    },
    {
      "cell_type": "code",
      "execution_count": 6,
      "metadata": {
        "colab": {
          "base_uri": "https://localhost:8080/"
        },
        "id": "pAH8HA_M7n6t",
        "outputId": "b57fe58d-6a0d-4576-f28b-9971fd353b6a"
      },
      "outputs": [
        {
          "output_type": "stream",
          "name": "stdout",
          "text": [
            "tf.Tensor(8, shape=(), dtype=int32)\n",
            "tf.Tensor([9 9], shape=(2,), dtype=int32)\n",
            "tf.Tensor(\n",
            "[[1 2 3]\n",
            " [4 5 6]\n",
            " [7 8 9]], shape=(3, 3), dtype=int32)\n",
            "tf.Tensor(\n",
            "[[[ 1  2  3]\n",
            "  [ 4  5  6]]\n",
            "\n",
            " [[10 11 12]\n",
            "  [13 14 15]]], shape=(2, 2, 3), dtype=int32)\n"
          ]
        }
      ],
      "source": [
        "#1\n",
        "import tensorflow as tf\n",
        "scalar = tf.constant(8)\n",
        "vector = tf.constant([9,9])\n",
        "matrix = tf.constant([[1,2,3],\n",
        "                      [4,5,6],\n",
        "                      [7,8,9]])\n",
        "\n",
        "tensor = tf.constant([[[1,2,3],\n",
        "                      [4,5,6]],\n",
        "                       [[10,11,12],\n",
        "                       [13,14,15]]])\n",
        "\n",
        "print(scalar)\n",
        "print(vector)\n",
        "print(matrix)\n",
        "print(tensor)"
      ]
    }
  ]
}