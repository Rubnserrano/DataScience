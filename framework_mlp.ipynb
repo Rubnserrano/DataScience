{
  "nbformat": 4,
  "nbformat_minor": 0,
  "metadata": {
    "colab": {
      "provenance": [],
      "authorship_tag": "ABX9TyPG+06xUWhbq69wdXp8/EV2",
      "include_colab_link": true
    },
    "kernelspec": {
      "name": "python3",
      "display_name": "Python 3"
    },
    "language_info": {
      "name": "python"
    }
  },
  "cells": [
    {
      "cell_type": "markdown",
      "metadata": {
        "id": "view-in-github",
        "colab_type": "text"
      },
      "source": [
        "<a href=\"https://colab.research.google.com/github/Rubnserrano/DataScience/blob/main/framework_mlp.ipynb\" target=\"_parent\"><img src=\"https://colab.research.google.com/assets/colab-badge.svg\" alt=\"Open In Colab\"/></a>"
      ]
    },
    {
      "cell_type": "code",
      "execution_count": null,
      "metadata": {
        "id": "Wfsza3LBjqu8"
      },
      "outputs": [],
      "source": [
        "D_in, H, D_out = 2, 3, 2\n",
        "\n",
        "mlp = MLP([\n",
        "    Linear(D_in, H),\n",
        "    Relu(),\n",
        "    Linear(H, D_out)\n",
        "])\n",
        "\n",
        "optimizer = SGD(mlp, lr=0.01)\n",
        "loss = CrossEntropy(mlp)\n",
        "\n",
        "epochs = 100\n",
        "for e in range(epochs):\n",
        "  for batch in batches:\n",
        "    y_pred = mlp(x)\n",
        "    loss(y_pred, y)\n",
        "    loss.backward() ## Calcular gradientes\n",
        "    optimizer.update()"
      ]
    },
    {
      "cell_type": "code",
      "source": [
        "class MLP:\n",
        "  def __init__(self, layers):\n",
        "    # lista de capas\n",
        "    self.layers = layers\n",
        "  \n",
        "  def __call__(self, x):\n",
        "\n",
        "    for layer in self.layers:\n",
        "      x = layer(x)\n",
        "    return x"
      ],
      "metadata": {
        "id": "_1GlWW1dkLBT"
      },
      "execution_count": null,
      "outputs": []
    },
    {
      "cell_type": "code",
      "source": [
        "class Layer():\n",
        "  def __init__(self):\n",
        "    self.params = []\n",
        "    self.grads = []\n",
        "\n",
        "  def __call__(self,x):\n",
        "    return x\n",
        "\n",
        "  def backward(self, grad):\n",
        "    return grad\n",
        "\n",
        "  def update(self, params):\n",
        "    return"
      ],
      "metadata": {
        "id": "eLRMou_jkk7K"
      },
      "execution_count": null,
      "outputs": []
    },
    {
      "cell_type": "code",
      "source": [
        "class Linear(Layer):\n",
        "  def __init__(self, d_in, d_out):\n",
        "    self.w = np.random.normal(loc=0.0,\n",
        "                              scale = np.sqrt(2/(d_in+d_out)),\n",
        "                              size = (d_in, d_out))\n",
        "    self.b = np.zeros(d_out)\n",
        "\n",
        "  def __call__(self, x):\n",
        "    self.x = x\n",
        "    self.params = [self.w, self.b]\n",
        "    return np.dot(x, self.w) + self.b\n",
        "  \n",
        "  def backward(self, grad_output):\n",
        "    grad = np.dot(grad_output, self.w.T)\n",
        "    self.grad_w = np.dot(self.x.T, grad_output)\n",
        "\n",
        "    self.grad_b = grad_output.mean(axis=0)*self.x.shape[0]\n",
        "    self.grads = [self.grad_w, self.grad_b]\n",
        "    return grad\n",
        "\n",
        "  def update(self, params):\n",
        "    self.w, self.b = params"
      ],
      "metadata": {
        "id": "ibPssFh3k7Ey"
      },
      "execution_count": null,
      "outputs": []
    },
    {
      "cell_type": "code",
      "source": [
        "class ReLU(layer):\n",
        "  def __call__(self, x):\n",
        "    self.x = x\n",
        "    return np.maxium(0, x)\n",
        "\n",
        "  def backward(self, grad_output):\n",
        "    grad = self.x > 0\n",
        "    return grad_output*grad\n",
        "  \n",
        "def sigmoid(x):\n",
        "  return 1 / (1+np.exp(-x))\n",
        "\n",
        "def softmax(x):\n",
        "  return np.exp(x) / np.exp(x).sum(axis=-1, keepdims = True)\n",
        "\n",
        "class Sigmoid(Layer):\n",
        "  def __call__(self, x):\n",
        "    self.x = x\n",
        "    return sigmoid(x)\n",
        "\n",
        "  def backward(self, grad_output):\n",
        "    grad = sigmoid(self.x)*(1-sigmoid(self.x))\n",
        "    return grad_output*grad"
      ],
      "metadata": {
        "id": "cZjQpiiMl7Kr"
      },
      "execution_count": null,
      "outputs": []
    },
    {
      "cell_type": "code",
      "source": [
        "class SGD():\n",
        "  def __init__(self, net, lr):\n",
        "    self.net = net\n",
        "    self.lr = lr\n",
        "\n",
        "  def update(self):\n",
        "    for layer in self.net.layers:\n",
        "      layer.update([\n",
        "          params - self.lr*grads\n",
        "          for params, grads in zip(layer.params, layer.grads)\n",
        "      ])"
      ],
      "metadata": {
        "id": "-PLBTUAimtNp"
      },
      "execution_count": null,
      "outputs": []
    },
    {
      "cell_type": "code",
      "source": [
        "class Loss():\n",
        "  def __init__(self, net):\n",
        "    self.net = net\n",
        "\n",
        "  def backward(self):\n",
        "    grad = self.grad_loss()\n",
        "\n",
        "  for layer in reversed(self.net.layers):\n",
        "    grad = layer.backward(grad)\n",
        "\n",
        "\n",
        "class MSE(Loss):\n",
        "  def __call__(self, output, target):\n",
        "    self.output, self.target = output, target.reshape(output.shape)\n",
        "    loss = np.mean((self.output - self.target)**2)\n",
        "    return loss.mean()\n",
        "\n",
        "    def grad_loss(self):\n",
        "      return self.output - self.target\n",
        "\n",
        "  \n",
        "class BCE(Loss):\n",
        "  def __call__(self, output, target):\n",
        "    self.output, self.target = output, target.reshape(output.shape)\n",
        "    loss = - np.mean(self.target*np.log(self.output) - (1-self.target)*np.log(1-self.output))\n",
        "    return loss.mean()\n",
        "\n",
        "    def grad_loss(self):\n",
        "      return self.output - self.target\n",
        "\n",
        "\n",
        "class CrossEntropy(Loss):\n",
        "  def __call__(self, output, target):\n",
        "    self.output, self.target = output, target\n",
        "    logits = output[np.arange(len(output)), target]\n",
        "    loss = - logits + np.log(np.sum(np.exp(output), axis=-1))\n",
        "    loss = loss.mean()\n",
        "    return layer\n",
        "\n",
        "  def grad_loss(self):\n",
        "    answers = np.zeros_like(self.output)\n",
        "    answers[np.arnge(len(self.output)), self.target] = 1\n",
        "    return (-answers + softmax(self.output)) / self.output.shape[0]\n",
        "    "
      ],
      "metadata": {
        "id": "jmLlPpUAnFaT"
      },
      "execution_count": null,
      "outputs": []
    }
  ]
}